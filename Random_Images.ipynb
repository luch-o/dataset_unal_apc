{
 "cells": [
  {
   "cell_type": "markdown",
   "id": "ba58d5ae-d4d7-4b9b-882b-92288cf8cd80",
   "metadata": {},
   "source": [
    "# Random Images\n",
    "\n",
    "This notebook will select 3 random images for each oh the three views for each object, and then make a zip file with this sample images"
   ]
  },
  {
   "cell_type": "code",
   "execution_count": 1,
   "id": "7c4e148d-a422-4825-960c-b9c9116c52ee",
   "metadata": {},
   "outputs": [],
   "source": [
    "import random\n",
    "import os\n",
    "import re\n",
    "\n",
    "random.seed(0)\n",
    "\n",
    "im_types = ('color', 'depth', 'depth_jet')\n",
    "im_exts = ('jpg', 'tiff', 'jpg')\n",
    "\n",
    "object_names = os.listdir('img') + ['jugo_standing', 'desodorante_standing']\n",
    "samples_dict = {obj: random.sample(range(200), 9) for obj in object_names}\n",
    "\n",
    "samples_paths = []\n",
    "for obj, sample_idxs in samples_dict.items():\n",
    "    for i, n in enumerate(sample_idxs):\n",
    "        view = 'front' if i < 3 else 'mid' if i < 6 else 'high'\n",
    "        standing = obj.endswith('_standing')\n",
    "        obj_name = obj if not standing else obj.split('_')[0]\n",
    "        fnames = [f\"{view + ('_standing' if standing else '')}_{im_type}_{n}.{ext}\"\n",
    "                  for im_type, ext in zip(im_types, im_exts)]\n",
    "        samples_paths += [os.path.join('img', obj_name, fname) for fname in fnames]        "
   ]
  },
  {
   "cell_type": "markdown",
   "id": "17b66039-7894-4526-ac1b-322d0b294a91",
   "metadata": {},
   "source": [
    "As a sanity check, the next cell will check if the paths exist"
   ]
  },
  {
   "cell_type": "code",
   "execution_count": 2,
   "id": "0cc433c6-02f4-4aab-ae06-7e342752a47e",
   "metadata": {},
   "outputs": [
    {
     "name": "stdout",
     "output_type": "stream",
     "text": [
      "Everything ok\n"
     ]
    }
   ],
   "source": [
    "ok = True\n",
    "for im_path in samples_paths:\n",
    "    if not os.path.exists(im_path):\n",
    "        print(f'oops {im_path} does not exists')\n",
    "        ok = False\n",
    "if ok: print(\"Everything ok\")"
   ]
  },
  {
   "cell_type": "markdown",
   "id": "bdb47f5b-3f62-40cf-9202-96085c776ef7",
   "metadata": {},
   "source": [
    "Next wi will create our zipfile"
   ]
  },
  {
   "cell_type": "code",
   "execution_count": 4,
   "id": "167434cc-2dd1-451f-9f94-a188a8ae1512",
   "metadata": {},
   "outputs": [],
   "source": [
    "import zipfile\n",
    "\n",
    "with zipfile.ZipFile('sample_images.zip', 'w') as zfile:\n",
    "    for im in samples_paths: zfile.write(im)"
   ]
  }
 ],
 "metadata": {
  "kernelspec": {
   "display_name": "Python 3",
   "language": "python",
   "name": "python3"
  },
  "language_info": {
   "codemirror_mode": {
    "name": "ipython",
    "version": 3
   },
   "file_extension": ".py",
   "mimetype": "text/x-python",
   "name": "python",
   "nbconvert_exporter": "python",
   "pygments_lexer": "ipython3",
   "version": "3.7.10"
  }
 },
 "nbformat": 4,
 "nbformat_minor": 5
}
