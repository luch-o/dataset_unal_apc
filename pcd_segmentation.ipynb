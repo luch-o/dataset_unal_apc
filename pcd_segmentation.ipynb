{
 "cells": [
  {
   "cell_type": "markdown",
   "metadata": {},
   "source": [
    "# Pointcloud Segmentation with RANSAC and DBSCAN\n",
    "\n",
    "In this notebook we will segment the images using pointcloud processing algorithms. First import libraries"
   ]
  },
  {
   "cell_type": "code",
   "execution_count": 1,
   "metadata": {},
   "outputs": [
    {
     "name": "stdout",
     "output_type": "stream",
     "text": [
      "Jupyter environment detected. Enabling Open3D WebVisualizer.\n",
      "[Open3D INFO] WebRTC GUI backend enabled.\n",
      "[Open3D INFO] WebRTCWindowSystem: HTTP handshake server disabled.\n"
     ]
    }
   ],
   "source": [
    "import open3d as o3d\n",
    "import numpy as np\n",
    "import matplotlib.pyplot as plt\n",
    "import json\n",
    "import os"
   ]
  },
  {
   "cell_type": "markdown",
   "metadata": {},
   "source": [
    "## Load Data and Create Point Cloud\n",
    "\n",
    "Load sample images and create pointcloud object\n",
    "1. Load camera parameters\n",
    "2. Load depth and color images\n",
    "3. Create RGBD image object\n",
    "4. Create Intrinsics object\n",
    "5. Create PointCloud object"
   ]
  },
  {
   "cell_type": "code",
   "execution_count": 3,
   "metadata": {},
   "outputs": [
    {
     "data": {
      "text/plain": [
       "PointCloud with 271008 points."
      ]
     },
     "execution_count": 3,
     "metadata": {},
     "output_type": "execute_result"
    }
   ],
   "source": [
    "# variables to easily change sample image\n",
    "obj = 'pimenton'\n",
    "view = 'front'\n",
    "num = 0\n",
    "\n",
    "# load params\n",
    "with open(os.path.join('img',obj,f'calib_data_{view}.json')) as json_file:\n",
    "    cam_params = json.load(json_file)\n",
    "\n",
    "# load images\n",
    "color = o3d.io.read_image(os.path.join('img', obj, f'{view}_color_{num}.jpg'))\n",
    "depth = o3d.io.read_image(os.path.join('img', obj, f'{view}_depth_{num}.png'))\n",
    "\n",
    "# create RGBD image\n",
    "rgbd = o3d.geometry.RGBDImage.create_from_color_and_depth(\n",
    "    color, depth, convert_rgb_to_intensity=False)\n",
    "\n",
    "# create intrinsics object\n",
    "intrinsics = o3d.camera.PinholeCameraIntrinsic(\n",
    "    cam_params['depth intrinsics']['width'],\n",
    "    cam_params['depth intrinsics']['height'],\n",
    "    cam_params['depth intrinsics']['fx'],\n",
    "    cam_params['depth intrinsics']['fy'],\n",
    "    cam_params['depth intrinsics']['ppx'],\n",
    "    cam_params['depth intrinsics']['ppy']\n",
    ")\n",
    "\n",
    "# create Point Cloud\n",
    "pcd = o3d.geometry.PointCloud.create_from_rgbd_image(\n",
    "    rgbd,\n",
    "    intrinsics,\n",
    "    project_valid_depth_only=True\n",
    ")\n",
    "# Flip it, otherwise the pointcloud will be upside down\n",
    "pcd.transform([[1, 0, 0, 0], [0, -1, 0, 0], [0, 0, -1, 0], [0, 0, 0, 1]])"
   ]
  },
  {
   "cell_type": "markdown",
   "metadata": {},
   "source": [
    "Visualize point cloud (opens in another window)"
   ]
  },
  {
   "cell_type": "code",
   "execution_count": 4,
   "metadata": {},
   "outputs": [],
   "source": [
    "o3d.visualization.draw_geometries([pcd])"
   ]
  },
  {
   "cell_type": "markdown",
   "metadata": {},
   "source": [
    "## Plane Detection with RANSAC"
   ]
  },
  {
   "cell_type": "markdown",
   "metadata": {},
   "source": [
    "### One plane"
   ]
  },
  {
   "cell_type": "code",
   "execution_count": 4,
   "metadata": {},
   "outputs": [
    {
     "name": "stdout",
     "output_type": "stream",
     "text": [
      "Plane equation: 0.03x + -0.02y + 1.00z + 0.75 = 0\n"
     ]
    }
   ],
   "source": [
    "plane_model, inliers = pcd.segment_plane(\n",
    "    distance_threshold=0.02,\n",
    "    ransac_n=3,\n",
    "    num_iterations=1000\n",
    ")\n",
    "[a, b, c, d] = plane_model\n",
    "print(f\"Plane equation: {a:.2f}x + {b:.2f}y + {c:.2f}z + {d:.2f} = 0\")"
   ]
  },
  {
   "cell_type": "markdown",
   "metadata": {},
   "source": [
    "3D Visualization (Opens in another window)"
   ]
  },
  {
   "cell_type": "code",
   "execution_count": 5,
   "metadata": {},
   "outputs": [],
   "source": [
    "inlier_pcd = pcd.select_by_index(inliers)\n",
    "inlier_pcd.paint_uniform_color([1.0, 0.0, 0.0])\n",
    "outlier_pcd = pcd.select_by_index(inliers, invert=True)\n",
    "o3d.visualization.draw_geometries([inlier_pcd, outlier_pcd])"
   ]
  },
  {
   "cell_type": "markdown",
   "metadata": {},
   "source": [
    "This will Detect the plane corresponding to the wall behind the object. If we map all this points to $[0,0,0]$ we are effectively removing the plane "
   ]
  },
  {
   "cell_type": "code",
   "execution_count": 6,
   "metadata": {},
   "outputs": [],
   "source": [
    "# map plane inliers to origin\n",
    "points = np.asarray(pcd.points).copy()\n",
    "points[inliers] = [0, 0, 0]\n",
    "# create a pointcloud from the set of mapped points\n",
    "pcd_proc = o3d.geometry.PointCloud(pcd)\n",
    "pcd_proc.points = o3d.utility.Vector3dVector(points)"
   ]
  },
  {
   "cell_type": "code",
   "execution_count": 7,
   "metadata": {},
   "outputs": [],
   "source": [
    "o3d.visualization.draw_geometries([pcd_proc])\n",
    "#o3d.visualization.draw_geometries([pcd])"
   ]
  },
  {
   "cell_type": "markdown",
   "metadata": {},
   "source": [
    "### Several planes in a Loop\n",
    "\n",
    "Removing inliers in each iteration for visualization"
   ]
  },
  {
   "cell_type": "code",
   "execution_count": 8,
   "metadata": {},
   "outputs": [
    {
     "name": "stdout",
     "output_type": "stream",
     "text": [
      "Pass 1/4 done\n",
      "Pass 2/4 done\n",
      "Pass 3/4 done\n",
      "Pass 4/4 done\n"
     ]
    }
   ],
   "source": [
    "segment_models = []\n",
    "segments = []\n",
    "max_plane_idx = 4\n",
    "rest = o3d.geometry.PointCloud(pcd)\n",
    "\n",
    "for i in range(max_plane_idx):\n",
    "    colors = plt.get_cmap(\"tab20\")(i)\n",
    "    segment_model, inliers = rest.segment_plane(\n",
    "        distance_threshold=0.009,\n",
    "        ransac_n=3,\n",
    "        num_iterations=1000\n",
    "    )\n",
    "\n",
    "    # for visualization\n",
    "    segment_models.append(segment_model)\n",
    "    segments.append(rest.select_by_index(inliers))\n",
    "    segments[i].paint_uniform_color(list(colors[:3]))\n",
    "    rest = rest.select_by_index(inliers, invert=True)\n",
    "    print(f\"Pass {i+1}/{max_plane_idx} done\")"
   ]
  },
  {
   "cell_type": "markdown",
   "metadata": {},
   "source": [
    "The equations for the planes found are:"
   ]
  },
  {
   "cell_type": "code",
   "execution_count": null,
   "metadata": {},
   "outputs": [],
   "source": [
    "for a,b,c,d in segment_models:\n",
    "    print(f\"{a:.2f}x + {b:.2f}y + {c:.2f}z + {d:.2f} = 0\")"
   ]
  },
  {
   "cell_type": "code",
   "execution_count": 9,
   "metadata": {},
   "outputs": [],
   "source": [
    "o3d.visualization.draw_geometries(segments)"
   ]
  },
  {
   "cell_type": "code",
   "execution_count": 10,
   "metadata": {},
   "outputs": [],
   "source": [
    "o3d.visualization.draw_geometries([rest])"
   ]
  },
  {
   "cell_type": "code",
   "execution_count": 11,
   "metadata": {},
   "outputs": [],
   "source": [
    "o3d.visualization.draw_geometries(segments + [rest])"
   ]
  },
  {
   "cell_type": "markdown",
   "metadata": {},
   "source": [
    "Without removing points in the loop. Mapping to zero the planes detected leads to eventual false planes detected. Mapping them to `nan` partialy solves this problem but we can still have some false positive planes."
   ]
  },
  {
   "cell_type": "code",
   "execution_count": 12,
   "metadata": {},
   "outputs": [],
   "source": [
    "max_plane_idx = 4\n",
    "pcd_proc = o3d.geometry.PointCloud(pcd)\n",
    "vis = False\n",
    "for i in range(max_plane_idx):\n",
    "    plane_model, inliers = pcd_proc.segment_plane(\n",
    "        distance_threshold=0.009,\n",
    "        ransac_n=3,\n",
    "        num_iterations=1000\n",
    "    )\n",
    "    if vis:\n",
    "        inlier_pcd = pcd_proc.select_by_index(inliers)\n",
    "        outlier_pcd = pcd_proc.select_by_index(inliers, invert=True)\n",
    "        inlier_pcd.paint_uniform_color([1,0,0])\n",
    "        o3d.visualization.draw_geometries([inlier_pcd, outlier_pcd])\n",
    "    points = np.array(pcd_proc.points)\n",
    "    points[inliers] = [np.nan]*3\n",
    "    pcd_proc.points = o3d.utility.Vector3dVector(points)"
   ]
  },
  {
   "cell_type": "code",
   "execution_count": 13,
   "metadata": {},
   "outputs": [],
   "source": [
    "o3d.visualization.draw_geometries([pcd_proc])"
   ]
  },
  {
   "cell_type": "markdown",
   "metadata": {},
   "source": [
    "### RANSAC refinement with DBSCAN\n",
    "\n",
    "Refining RANSAC with DBSCAN will allow us to filter false positives"
   ]
  },
  {
   "cell_type": "code",
   "execution_count": 14,
   "metadata": {},
   "outputs": [
    {
     "name": "stdout",
     "output_type": "stream",
     "text": [
      "Best plane is 0 out of 1 candidates\n",
      "Pass 1/4 done\n",
      "Best plane is 0 out of 1 candidates\n",
      "Pass 2/4 done\n",
      "Best plane is 0 out of 1 candidates\n",
      "Pass 3/4 done\n",
      "Best plane is 1 out of 3 candidates\n",
      "Pass 4/4 done\n"
     ]
    }
   ],
   "source": [
    "segment_models = []\n",
    "segments = []\n",
    "max_plane_idx = 4\n",
    "pcd_proc = o3d.geometry.PointCloud(pcd)\n",
    "d_thresh = 0.009\n",
    "\n",
    "for i in range(max_plane_idx):\n",
    "    colors = plt.get_cmap(\"tab20\")(i)\n",
    "    plane_model, inliers = pcd_proc.segment_plane(\n",
    "        distance_threshold=d_thresh,\n",
    "        ransac_n=3,\n",
    "        num_iterations=1000\n",
    "    )\n",
    "    segment_models.append(plane_model)\n",
    "    segments.append(pcd_proc.select_by_index(inliers))\n",
    "    # dbscan refinement\n",
    "    labels = np.array(segments[i].cluster_dbscan(\n",
    "        eps=10*d_thresh,\n",
    "        min_points=10\n",
    "    ))\n",
    "    unique_labels = np.unique(labels)\n",
    "    # numbe of points of each cluster\n",
    "    candidates = [len(np.where(labels==j)[0]) for j in unique_labels]\n",
    "    # best candidate based on largest cluster\n",
    "    best_plane = int(unique_labels[np.where(candidates==np.max(candidates))[0]])    \n",
    "    print(f\"Best plane is {best_plane} out of {len(unique_labels)} candidates\")\n",
    "    pcd_proc = pcd_proc.select_by_index(inliers, invert=True) + \\\n",
    "        segments[i].select_by_index(list(np.where(labels!=best_plane)[0]))\n",
    "    segments[i] = segments[i].select_by_index(list(np.where(labels==best_plane)[0]))\n",
    "    segments[i].paint_uniform_color(list(colors[:3]))\n",
    "    print(f\"Pass {i+1}/{max_plane_idx} done\")"
   ]
  },
  {
   "cell_type": "code",
   "execution_count": 15,
   "metadata": {},
   "outputs": [],
   "source": [
    "o3d.visualization.draw_geometries(segments)"
   ]
  },
  {
   "cell_type": "code",
   "execution_count": 16,
   "metadata": {},
   "outputs": [],
   "source": [
    "o3d.visualization.draw_geometries([pcd_proc])"
   ]
  },
  {
   "cell_type": "code",
   "execution_count": 17,
   "metadata": {},
   "outputs": [],
   "source": [
    "o3d.visualization.draw_geometries(segments+[pcd_proc])"
   ]
  },
  {
   "cell_type": "markdown",
   "metadata": {},
   "source": [
    "## Clustering with DBSCAN\n",
    "\n",
    "With the remaining points, we perform DBSCAN clustering to find our object of interest"
   ]
  },
  {
   "cell_type": "code",
   "execution_count": 18,
   "metadata": {},
   "outputs": [
    {
     "name": "stdout",
     "output_type": "stream",
     "text": [
      "Point clod has 18 clusters\n"
     ]
    }
   ],
   "source": [
    "labels = np.array(\n",
    "    rest.cluster_dbscan(eps=0.02, min_points=10)\n",
    ")\n",
    "max_label = labels.max()\n",
    "print(f\"Point clod has {max_label} clusters\")\n",
    "colors = plt.get_cmap(\"tab10\")(labels / max_label if max_label > 0 else 1)\n",
    "colors[labels < 0] = 0\n",
    "rest.colors = o3d.utility.Vector3dVector(colors[:, :3])"
   ]
  },
  {
   "cell_type": "code",
   "execution_count": 30,
   "metadata": {},
   "outputs": [],
   "source": [
    "o3d.visualization.draw_geometries(segments+[rest])"
   ]
  },
  {
   "cell_type": "code",
   "execution_count": 29,
   "metadata": {},
   "outputs": [],
   "source": [
    "o3d.visualization.draw_geometries([rest])"
   ]
  },
  {
   "cell_type": "code",
   "execution_count": 26,
   "metadata": {},
   "outputs": [
    {
     "data": {
      "text/plain": [
       "7"
      ]
     },
     "execution_count": 26,
     "metadata": {},
     "output_type": "execute_result"
    }
   ],
   "source": [
    "# find largest cluster\n",
    "cluster_sizes = [len(np.where(labels==j)[0]) for j in np.unique(labels)]\n",
    "biggest_cluster=int(np.unique(labels)[np.where(cluster_sizes==np.max(cluster_sizes))[0]])\n",
    "biggest_cluster"
   ]
  },
  {
   "cell_type": "code",
   "execution_count": 27,
   "metadata": {},
   "outputs": [],
   "source": [
    "o3d.visualization.draw_geometries(\n",
    "    [rest.select_by_index(np.where(labels==biggest_cluster)[0])]\n",
    ")"
   ]
  },
  {
   "cell_type": "code",
   "execution_count": 28,
   "metadata": {},
   "outputs": [],
   "source": [
    "o3d.visualization.draw_geometries(\n",
    "    [pcd]+[rest.select_by_index(np.where(labels==biggest_cluster)[0])]\n",
    ")"
   ]
  }
 ],
 "metadata": {
  "interpreter": {
   "hash": "37c41fe5db23142a30e881094837b63eca7ddcc48ae44de575fca51aad1783b5"
  },
  "kernelspec": {
   "display_name": "Python 3.7.10 64-bit ('cv': conda)",
   "name": "python3"
  },
  "language_info": {
   "codemirror_mode": {
    "name": "ipython",
    "version": 3
   },
   "file_extension": ".py",
   "mimetype": "text/x-python",
   "name": "python",
   "nbconvert_exporter": "python",
   "pygments_lexer": "ipython3",
   "version": "3.7.10"
  },
  "toc-autonumbering": true
 },
 "nbformat": 4,
 "nbformat_minor": 5
}